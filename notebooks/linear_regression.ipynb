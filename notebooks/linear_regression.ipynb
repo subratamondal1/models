{
 "cells": [
  {
   "cell_type": "markdown",
   "metadata": {},
   "source": [
    "# Linear Regression"
   ]
  },
  {
   "cell_type": "markdown",
   "metadata": {},
   "source": [
    "## WorkFlow\n",
    "1. Import the necessary libraries\n",
    "2. Get the data ready\n",
    "3. Build the model (Linear Regression Model)\n",
    "4. Pick up a Loss Function and Optimizer\n",
    "5. Build a Training Loop\n",
    "6. Evaluate the model\n",
    "7. Test the Model with New Data Points\n",
    "8. Save the Model"
   ]
  },
  {
   "cell_type": "markdown",
   "metadata": {},
   "source": [
    "## 1. Import the necessary libraries"
   ]
  },
  {
   "cell_type": "code",
   "execution_count": 93,
   "metadata": {},
   "outputs": [],
   "source": [
    "import matplotlib.pyplot as plt\n",
    "import numpy as np\n",
    "import torch\n",
    "import torch.nn as nn"
   ]
  },
  {
   "cell_type": "markdown",
   "metadata": {},
   "source": [
    "## 2. Get the data ready"
   ]
  },
  {
   "cell_type": "code",
   "execution_count": 94,
   "metadata": {},
   "outputs": [
    {
     "name": "stdout",
     "output_type": "stream",
     "text": [
      "X Train: \n",
      "[[ 3.3  ]\n",
      " [ 4.4  ]\n",
      " [ 5.5  ]\n",
      " [ 6.71 ]\n",
      " [ 6.93 ]\n",
      " [ 4.168]\n",
      " [ 9.779]\n",
      " [ 6.182]\n",
      " [ 7.59 ]\n",
      " [ 2.167]\n",
      " [ 7.042]\n",
      " [10.791]\n",
      " [ 5.313]\n",
      " [ 7.997]\n",
      " [ 3.1  ]]\n",
      "X_train shape: (15, 1)\n",
      "\n",
      "Y Train: \n",
      "[[1.7  ]\n",
      " [2.76 ]\n",
      " [2.09 ]\n",
      " [3.19 ]\n",
      " [1.694]\n",
      " [1.573]\n",
      " [3.366]\n",
      " [2.596]\n",
      " [2.53 ]\n",
      " [1.221]\n",
      " [2.827]\n",
      " [3.465]\n",
      " [1.65 ]\n",
      " [2.904]\n",
      " [1.3  ]]\n",
      "Y_train shape: (15, 1)\n"
     ]
    }
   ],
   "source": [
    "x_train: np.ndarray = np.array(\n",
    "    object=[\n",
    "        [3.3],\n",
    "        [4.4],\n",
    "        [5.5],\n",
    "        [6.71],\n",
    "        [6.93],\n",
    "        [4.168],\n",
    "        [9.779],\n",
    "        [6.182],\n",
    "        [7.59],\n",
    "        [2.167],\n",
    "        [7.042],\n",
    "        [10.791],\n",
    "        [5.313],\n",
    "        [7.997],\n",
    "        [3.1],\n",
    "    ],\n",
    "    dtype=np.float32,\n",
    ")\n",
    "\n",
    "print(f\"X Train: \\n{x_train}\")\n",
    "print(f\"X_train shape: {x_train.shape}\")\n",
    "\n",
    "y_train: np.ndarray = np.array(\n",
    "    object=[\n",
    "        [1.7],\n",
    "        [2.76],\n",
    "        [2.09],\n",
    "        [3.19],\n",
    "        [1.694],\n",
    "        [1.573],\n",
    "        [3.366],\n",
    "        [2.596],\n",
    "        [2.53],\n",
    "        [1.221],\n",
    "        [2.827],\n",
    "        [3.465],\n",
    "        [1.65],\n",
    "        [2.904],\n",
    "        [1.3],\n",
    "    ],\n",
    "    dtype=np.float32,\n",
    ")\n",
    "\n",
    "print(f\"\\nY Train: \\n{y_train}\")\n",
    "print(f\"Y_train shape: {y_train.shape}\")"
   ]
  },
  {
   "cell_type": "code",
   "execution_count": 95,
   "metadata": {},
   "outputs": [
    {
     "data": {
      "image/png": "[encoded data removed]",
      "text/plain": [
       "<Figure size 800x600 with 1 Axes>"
      ]
     },
     "metadata": {},
     "output_type": "display_data"
    }
   ],
   "source": [
    "fig: plt.Figure = plt.figure(figsize=(8, 6))\n",
    "plt.plot(x_train, y_train, \"ro\", label=\"Original Data\")\n",
    "plt.xlabel(xlabel=\"Hours Studied\")\n",
    "plt.ylabel(ylabel=\"Exam Score\")\n",
    "plt.title(label=\"Exam Score Prediction\")\n",
    "plt.legend(loc=\"upper left\")\n",
    "plt.show()"
   ]
  },
  {
   "cell_type": "markdown",
   "metadata": {},
   "source": [
    "### Convert data to tensors from numpy arrays"
   ]
  },
  {
   "cell_type": "code",
   "execution_count": 96,
   "metadata": {},
   "outputs": [
    {
     "name": "stdout",
     "output_type": "stream",
     "text": [
      "X Train: \n",
      "tensor([[ 3.3000],\n",
      "        [ 4.4000],\n",
      "        [ 5.5000],\n",
      "        [ 6.7100],\n",
      "        [ 6.9300],\n",
      "        [ 4.1680],\n",
      "        [ 9.7790],\n",
      "        [ 6.1820],\n",
      "        [ 7.5900],\n",
      "        [ 2.1670],\n",
      "        [ 7.0420],\n",
      "        [10.7910],\n",
      "        [ 5.3130],\n",
      "        [ 7.9970],\n",
      "        [ 3.1000]])\n",
      "X_train shape: torch.Size([15, 1])\n",
      "\n",
      "Y Train: \n",
      "tensor([[1.7000],\n",
      "        [2.7600],\n",
      "        [2.0900],\n",
      "        [3.1900],\n",
      "        [1.6940],\n",
      "        [1.5730],\n",
      "        [3.3660],\n",
      "        [2.5960],\n",
      "        [2.5300],\n",
      "        [1.2210],\n",
      "        [2.8270],\n",
      "        [3.4650],\n",
      "        [1.6500],\n",
      "        [2.9040],\n",
      "        [1.3000]])\n",
      "Y_train shape: torch.Size([15, 1])\n"
     ]
    }
   ],
   "source": [
    "x_train: torch.Tensor = torch.from_numpy(x_train)\n",
    "y_train: torch.Tensor = torch.from_numpy(y_train)\n",
    "\n",
    "print(f\"X Train: \\n{x_train}\")\n",
    "print(f\"X_train shape: {x_train.shape}\")\n",
    "\n",
    "print(f\"\\nY Train: \\n{y_train}\")\n",
    "print(f\"Y_train shape: {y_train.shape}\")"
   ]
  },
  {
   "cell_type": "markdown",
   "metadata": {},
   "source": [
    "## 3. Build the model (Linear Regression Model)"
   ]
  },
  {
   "cell_type": "code",
   "execution_count": 97,
   "metadata": {},
   "outputs": [],
   "source": [
    "class LinearRegression(nn.Module):\n",
    "    def __init__(self) -> None:\n",
    "        super().__init__()\n",
    "        self.linear: nn.Linear = nn.Linear(in_features=1, out_features=1)\n",
    "\n",
    "    def forward(self, x: torch.Tensor) -> torch.Tensor:\n",
    "        return self.linear(x)"
   ]
  },
  {
   "cell_type": "code",
   "execution_count": 98,
   "metadata": {},
   "outputs": [
    {
     "name": "stdout",
     "output_type": "stream",
     "text": [
      "LinearRegression(\n",
      "  (linear): Linear(in_features=1, out_features=1, bias=True)\n",
      ")\n"
     ]
    }
   ],
   "source": [
    "model = LinearRegression()\n",
    "print(model)"
   ]
  },
  {
   "cell_type": "markdown",
   "metadata": {},
   "source": [
    "**While Model Training only these two parameters (weight and bias) will be trained (changed).**"
   ]
  },
  {
   "cell_type": "code",
   "execution_count": 99,
   "metadata": {},
   "outputs": [
    {
     "data": {
      "text/plain": [
       "OrderedDict([('linear.weight', tensor([[-0.6652]])),\n",
       "             ('linear.bias', tensor([-0.6916]))])"
      ]
     },
     "execution_count": 99,
     "metadata": {},
     "output_type": "execute_result"
    }
   ],
   "source": [
    "model.state_dict()"
   ]
  },
  {
   "cell_type": "code",
   "execution_count": 100,
   "metadata": {},
   "outputs": [
    {
     "name": "stdout",
     "output_type": "stream",
     "text": [
      "Parameter containing:\n",
      "tensor([[-0.6652]], requires_grad=True)\n",
      "Parameter containing:\n",
      "tensor([-0.6916], requires_grad=True)\n"
     ]
    }
   ],
   "source": [
    "# While Model Training only these two parameters (weight and bias) will be trained (changed)\n",
    "print(model.linear.weight)\n",
    "print(model.linear.bias)"
   ]
  },
  {
   "cell_type": "code",
   "execution_count": 101,
   "metadata": {},
   "outputs": [
    {
     "name": "stdout",
     "output_type": "stream",
     "text": [
      "[Parameter containing:\n",
      "tensor([[-0.6652]], requires_grad=True), Parameter containing:\n",
      "tensor([-0.6916], requires_grad=True)]\n"
     ]
    }
   ],
   "source": [
    "print(list(model.linear.parameters()))"
   ]
  },
  {
   "cell_type": "code",
   "execution_count": 102,
   "metadata": {},
   "outputs": [
    {
     "name": "stdout",
     "output_type": "stream",
     "text": [
      "<generator object Module.parameters at 0x119808200>\n"
     ]
    },
    {
     "data": {
      "text/plain": [
       "[Parameter containing:\n",
       " tensor([[-0.6652]], requires_grad=True),\n",
       " Parameter containing:\n",
       " tensor([-0.6916], requires_grad=True)]"
      ]
     },
     "execution_count": 102,
     "metadata": {},
     "output_type": "execute_result"
    }
   ],
   "source": [
    "params = model.parameters()\n",
    "print(params)\n",
    "list(params)"
   ]
  },
  {
   "cell_type": "markdown",
   "metadata": {},
   "source": [
    "## 4. Pick up a Loss Function and Optimizer"
   ]
  },
  {
   "cell_type": "code",
   "execution_count": 103,
   "metadata": {},
   "outputs": [],
   "source": [
    "criterion = nn.MSELoss()\n",
    "optimizer = torch.optim.SGD(params=model.parameters(), lr=1e-4)"
   ]
  },
  {
   "cell_type": "markdown",
   "metadata": {},
   "source": [
    "## 5. Build a Training Loop"
   ]
  },
  {
   "cell_type": "code",
   "execution_count": 104,
   "metadata": {},
   "outputs": [],
   "source": [
    "EPOCHS = 600"
   ]
  },
  {
   "cell_type": "code",
   "execution_count": 105,
   "metadata": {},
   "outputs": [
    {
     "name": "stdout",
     "output_type": "stream",
     "text": [
      "Epoch [ 50/600 ] Loss: 23.555166\n",
      "Epoch [ 100/600 ] Loss: 10.112712\n",
      "Epoch [ 150/600 ] Loss: 4.467769\n"
     ]
    },
    {
     "name": "stdout",
     "output_type": "stream",
     "text": [
      "Epoch [ 200/600 ] Loss: 2.097084\n",
      "Epoch [ 250/600 ] Loss: 1.101296\n",
      "Epoch [ 300/600 ] Loss: 0.682838\n",
      "Epoch [ 350/600 ] Loss: 0.506809\n",
      "Epoch [ 400/600 ] Loss: 0.432580\n",
      "Epoch [ 450/600 ] Loss: 0.401098\n",
      "Epoch [ 500/600 ] Loss: 0.387567\n",
      "Epoch [ 550/600 ] Loss: 0.381574\n"
     ]
    }
   ],
   "source": [
    "for epoch in range(1, EPOCHS):\n",
    "    model.train()  # set the model to training mode\n",
    "    out = model(x_train)  # make predictions using forward pass\n",
    "    loss = criterion(out, y_train)  # calculate the loss\n",
    "    optimizer.zero_grad()  # zero the gradients before running the backward pass\n",
    "    loss.backward()  # calculate the gradients\n",
    "    optimizer.step()  # update the weights\n",
    "    if epoch % 50 == 0:\n",
    "        print(f\"Epoch [ {epoch}/{EPOCHS} ] Loss: {loss.item():.6f}\")"
   ]
  },
  {
   "cell_type": "markdown",
   "metadata": {},
   "source": [
    "## 6. Evaluate the model"
   ]
  },
  {
   "cell_type": "code",
   "execution_count": 106,
   "metadata": {},
   "outputs": [
    {
     "name": "stdout",
     "output_type": "stream",
     "text": [
      "Predicted: tensor([[0.9219],\n",
      "        [1.4004],\n",
      "        [1.8789],\n",
      "        [2.4052],\n",
      "        [2.5009],\n",
      "        [1.2995],\n",
      "        [3.7402],\n",
      "        [2.1756],\n",
      "        [2.7880],\n",
      "        [0.4291],\n",
      "        [2.5496],\n",
      "        [4.1804],\n",
      "        [1.7976],\n",
      "        [2.9651],\n",
      "        [0.8349]])\n"
     ]
    }
   ],
   "source": [
    "model.eval()  # set the model to evaluation mode\n",
    "with torch.no_grad():  # disable gradient calculation\n",
    "    predicted = model(x_train)  # make predictions using forward pass\n",
    "print(f\"Predicted: {predicted}\")  # print the predictions"
   ]
  },
  {
   "cell_type": "code",
   "execution_count": 107,
   "metadata": {},
   "outputs": [
    {
     "data": {
      "text/plain": [
       "tensor([[1.7000],\n",
       "        [2.7600],\n",
       "        [2.0900],\n",
       "        [3.1900],\n",
       "        [1.6940],\n",
       "        [1.5730],\n",
       "        [3.3660],\n",
       "        [2.5960],\n",
       "        [2.5300],\n",
       "        [1.2210],\n",
       "        [2.8270],\n",
       "        [3.4650],\n",
       "        [1.6500],\n",
       "        [2.9040],\n",
       "        [1.3000]])"
      ]
     },
     "execution_count": 107,
     "metadata": {},
     "output_type": "execute_result"
    }
   ],
   "source": [
    "y_train"
   ]
  },
  {
   "cell_type": "code",
   "execution_count": 108,
   "metadata": {},
   "outputs": [
    {
     "data": {
      "image/png": "[encoded data removed]",
      "text/plain": [
       "<Figure size 800x600 with 1 Axes>"
      ]
     },
     "metadata": {},
     "output_type": "display_data"
    }
   ],
   "source": [
    "fig: plt.Figure = plt.figure(figsize=(8, 6))\n",
    "plt.plot(x_train.numpy(), y_train.numpy(), \"ro\", label=\"Original Data\")\n",
    "plt.plot(x_train.numpy(), predicted.detach().numpy(), label=\"Fitted Line\")\n",
    "plt.xlabel(xlabel=\"Hours Studied\")\n",
    "plt.ylabel(ylabel=\"Exam Score\")\n",
    "plt.title(label=\"Exam Score Prediction\")\n",
    "plt.show()"
   ]
  },
  {
   "cell_type": "code",
   "execution_count": 109,
   "metadata": {},
   "outputs": [
    {
     "data": {
      "text/plain": [
       "OrderedDict([('linear.weight', tensor([[0.4350]])),\n",
       "             ('linear.bias', tensor([-0.5135]))])"
      ]
     },
     "execution_count": 109,
     "metadata": {},
     "output_type": "execute_result"
    }
   ],
   "source": [
    "model.state_dict()"
   ]
  },
  {
   "cell_type": "markdown",
   "metadata": {},
   "source": [
    "## 7. Test the Model with New Data Points"
   ]
  },
  {
   "cell_type": "code",
   "execution_count": 110,
   "metadata": {},
   "outputs": [],
   "source": [
    "hours_studied: torch.Tensor = torch.Tensor([[8.0]])"
   ]
  },
  {
   "cell_type": "code",
   "execution_count": 111,
   "metadata": {},
   "outputs": [
    {
     "name": "stdout",
     "output_type": "stream",
     "text": [
      "Predicted score if a person studies for 8.0 hours: 2.966\n"
     ]
    }
   ],
   "source": [
    "model.eval()\n",
    "with torch.no_grad():\n",
    "    new_predicted = model(hours_studied)\n",
    "print(\n",
    "    f\"Predicted score if a person studies for {hours_studied[0][0]} hours: {new_predicted[0][0]:.3f}\"\n",
    ")"
   ]
  },
  {
   "cell_type": "code",
   "execution_count": 115,
   "metadata": {},
   "outputs": [
    {
     "name": "stdout",
     "output_type": "stream",
     "text": [
      "2.9663565158843994\n"
     ]
    },
    {
     "data": {
      "text/plain": [
       "array([[2.9663565]], dtype=float32)"
      ]
     },
     "execution_count": 115,
     "metadata": {},
     "output_type": "execute_result"
    }
   ],
   "source": [
    "print(new_predicted.item())\n",
    "new_predicted.numpy()"
   ]
  },
  {
   "cell_type": "code",
   "execution_count": 117,
   "metadata": {},
   "outputs": [
    {
     "data": {
      "image/png": "[encoded data removed]",
      "text/plain": [
       "<Figure size 800x600 with 1 Axes>"
      ]
     },
     "metadata": {},
     "output_type": "display_data"
    }
   ],
   "source": [
    "fig: plt.Figure = plt.figure(figsize=(8, 6))\n",
    "plt.plot(x_train.numpy(), y_train.numpy(), \"ro\", label=\"Original Data\")\n",
    "plt.plot(x_train.numpy(), predicted.detach().numpy(), label=\"Fitted Line\")\n",
    "plt.scatter(\n",
    "    x=[hours_studied], y=[new_predicted.numpy()], color=\"black\", label=\"Predicted Score\"\n",
    ")\n",
    "plt.xlabel(xlabel=\"Hours Studied\")\n",
    "plt.ylabel(ylabel=\"Exam Score\")\n",
    "plt.title(label=\"Exam Score Prediction\")\n",
    "plt.legend(loc=\"upper left\")\n",
    "plt.show()"
   ]
  },
  {
   "cell_type": "code",
   "execution_count": 118,
   "metadata": {},
   "outputs": [
    {
     "data": {
      "text/plain": [
       "OrderedDict([('linear.weight', tensor([[0.4350]])),\n",
       "             ('linear.bias', tensor([-0.5135]))])"
      ]
     },
     "execution_count": 118,
     "metadata": {},
     "output_type": "execute_result"
    }
   ],
   "source": [
    "model.state_dict()"
   ]
  },
  {
   "cell_type": "code",
   "execution_count": 121,
   "metadata": {},
   "outputs": [],
   "source": [
    "torch.save(obj=model.state_dict(), f=\"../models/linear_Regression_model.pth\")"
   ]
  },
  {
   "cell_type": "code",
   "execution_count": null,
   "metadata": {},
   "outputs": [],
   "source": []
  }
 ],
 "metadata": {
  "kernelspec": {
   "display_name": "generative-ai-zqkb-BGY-py3.12",
   "language": "python",
   "name": "python3"
  },
  "language_info": {
   "codemirror_mode": {
    "name": "ipython",
    "version": 3
   },
   "file_extension": ".py",
   "mimetype": "text/x-python",
   "name": "python",
   "nbconvert_exporter": "python",
   "pygments_lexer": "ipython3",
   "version": "3.12.5"
  }
 },
 "nbformat": 4,
 "nbformat_minor": 2
}
