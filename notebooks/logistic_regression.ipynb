{
 "cells": [
  {
   "cell_type": "markdown",
   "metadata": {},
   "source": [
    "# Logistic Regression"
   ]
  },
  {
   "cell_type": "markdown",
   "id": "510a41fa",
   "metadata": {
    "papermill": {
     "duration": 0.005746,
     "end_time": "2024-11-03T05:58:56.299053",
     "exception": false,
     "start_time": "2024-11-03T05:58:56.293307",
     "status": "completed"
    },
    "tags": []
   },
   "source": [
    "## Workflows\n",
    "\n",
    "1. Import the necessary libraries\n",
    "\n",
    "2. Get the data ready\n",
    "\n",
    "3. Build a Logistic Regression Model\n",
    "\n",
    "4. Pick Loss Function and Optimizer\n",
    "\n",
    "5. Build a Training Loop\n",
    "\n",
    "6. Evaluate the model\n",
    "\n",
    "7. Improve the model\n",
    "\n",
    "8. Save and Load the model"
   ]
  },
  {
   "cell_type": "markdown",
   "id": "f1aeab0e",
   "metadata": {
    "papermill": {
     "duration": 0.005599,
     "end_time": "2024-11-03T05:58:56.310648",
     "exception": false,
     "start_time": "2024-11-03T05:58:56.305049",
     "status": "completed"
    },
    "tags": []
   },
   "source": [
    "## 1. Import the necessary libraries"
   ]
  },
  {
   "cell_type": "code",
   "execution_count": 4,
   "id": "f50d89c6",
   "metadata": {
    "execution": {
     "iopub.execute_input": "2024-11-03T05:58:56.325666Z",
     "iopub.status.busy": "2024-11-03T05:58:56.324190Z",
     "iopub.status.idle": "2024-11-03T05:59:01.630138Z",
     "shell.execute_reply": "2024-11-03T05:59:01.628874Z"
    },
    "papermill": {
     "duration": 5.316561,
     "end_time": "2024-11-03T05:59:01.633115",
     "exception": false,
     "start_time": "2024-11-03T05:58:56.316554",
     "status": "completed"
    },
    "tags": []
   },
   "outputs": [],
   "source": [
    "import time\n",
    "\n",
    "import torch\n",
    "\n",
    "import torch.nn as nn\n",
    "\n",
    "import torch.nn.functional as F\n",
    "\n",
    "from torch.utils.data import DataLoader\n",
    "\n",
    "from torchvision import datasets, transforms\n",
    "\n",
    "import matplotlib.pyplot as plt"
   ]
  },
  {
   "cell_type": "markdown",
   "id": "9a19326a",
   "metadata": {
    "papermill": {
     "duration": 0.005929,
     "end_time": "2024-11-03T05:59:01.645958",
     "exception": false,
     "start_time": "2024-11-03T05:59:01.640029",
     "status": "completed"
    },
    "tags": []
   },
   "source": [
    "# 2. Get the data ready"
   ]
  },
  {
   "cell_type": "code",
   "execution_count": 5,
   "id": "83be919d",
   "metadata": {
    "execution": {
     "iopub.execute_input": "2024-11-03T05:59:01.665466Z",
     "iopub.status.busy": "2024-11-03T05:59:01.664754Z",
     "iopub.status.idle": "2024-11-03T05:59:01.680968Z",
     "shell.execute_reply": "2024-11-03T05:59:01.679481Z"
    },
    "papermill": {
     "duration": 0.029991,
     "end_time": "2024-11-03T05:59:01.684635",
     "exception": false,
     "start_time": "2024-11-03T05:59:01.654644",
     "status": "completed"
    },
    "tags": []
   },
   "outputs": [
    {
     "data": {
      "text/plain": [
       "('LSUN',\n",
       " 'LSUNClass',\n",
       " 'ImageFolder',\n",
       " 'DatasetFolder',\n",
       " 'FakeData',\n",
       " 'CocoCaptions',\n",
       " 'CocoDetection',\n",
       " 'CIFAR10',\n",
       " 'CIFAR100',\n",
       " 'EMNIST',\n",
       " 'FashionMNIST',\n",
       " 'QMNIST',\n",
       " 'MNIST',\n",
       " 'KMNIST',\n",
       " 'StanfordCars',\n",
       " 'STL10',\n",
       " 'SUN397',\n",
       " 'SVHN',\n",
       " 'PhotoTour',\n",
       " 'SEMEION',\n",
       " 'Omniglot',\n",
       " 'SBU',\n",
       " 'Flickr8k',\n",
       " 'Flickr30k',\n",
       " 'Flowers102',\n",
       " 'VOCSegmentation',\n",
       " 'VOCDetection',\n",
       " 'Cityscapes',\n",
       " 'ImageNet',\n",
       " 'Caltech101',\n",
       " 'Caltech256',\n",
       " 'CelebA',\n",
       " 'WIDERFace',\n",
       " 'SBDataset',\n",
       " 'VisionDataset',\n",
       " 'USPS',\n",
       " 'Kinetics',\n",
       " 'HMDB51',\n",
       " 'UCF101',\n",
       " 'Places365',\n",
       " 'Kitti',\n",
       " 'INaturalist',\n",
       " 'LFWPeople',\n",
       " 'LFWPairs',\n",
       " 'KittiFlow',\n",
       " 'Sintel',\n",
       " 'FlyingChairs',\n",
       " 'FlyingThings3D',\n",
       " 'HD1K',\n",
       " 'Food101',\n",
       " 'DTD',\n",
       " 'FER2013',\n",
       " 'GTSRB',\n",
       " 'CLEVRClassification',\n",
       " 'OxfordIIITPet',\n",
       " 'PCAM',\n",
       " 'Country211',\n",
       " 'FGVCAircraft',\n",
       " 'EuroSAT',\n",
       " 'RenderedSST2',\n",
       " 'Kitti2012Stereo',\n",
       " 'Kitti2015Stereo',\n",
       " 'CarlaStereo',\n",
       " 'Middlebury2014Stereo',\n",
       " 'CREStereo',\n",
       " 'FallingThingsStereo',\n",
       " 'SceneFlowStereo',\n",
       " 'SintelStereo',\n",
       " 'InStereo2k',\n",
       " 'ETH3DStereo',\n",
       " 'wrap_dataset_for_transforms_v2',\n",
       " 'Imagenette')"
      ]
     },
     "execution_count": 5,
     "metadata": {},
     "output_type": "execute_result"
    }
   ],
   "source": [
    "datasets.__all__"
   ]
  },
  {
   "cell_type": "code",
   "execution_count": 6,
   "id": "3edd17d2",
   "metadata": {
    "execution": {
     "iopub.execute_input": "2024-11-03T05:59:01.705587Z",
     "iopub.status.busy": "2024-11-03T05:59:01.704848Z",
     "iopub.status.idle": "2024-11-03T05:59:01.716682Z",
     "shell.execute_reply": "2024-11-03T05:59:01.715232Z"
    },
    "papermill": {
     "duration": 0.024905,
     "end_time": "2024-11-03T05:59:01.719117",
     "exception": false,
     "start_time": "2024-11-03T05:59:01.694212",
     "status": "completed"
    },
    "tags": []
   },
   "outputs": [
    {
     "data": {
      "text/plain": [
       "['AugMix',\n",
       " 'AutoAugment',\n",
       " 'AutoAugmentPolicy',\n",
       " 'CenterCrop',\n",
       " 'ColorJitter',\n",
       " 'Compose',\n",
       " 'ConvertImageDtype',\n",
       " 'ElasticTransform',\n",
       " 'FiveCrop',\n",
       " 'GaussianBlur',\n",
       " 'Grayscale',\n",
       " 'InterpolationMode',\n",
       " 'Lambda',\n",
       " 'LinearTransformation',\n",
       " 'Normalize',\n",
       " 'PILToTensor',\n",
       " 'Pad',\n",
       " 'RandAugment',\n",
       " 'RandomAdjustSharpness',\n",
       " 'RandomAffine',\n",
       " 'RandomApply',\n",
       " 'RandomAutocontrast',\n",
       " 'RandomChoice',\n",
       " 'RandomCrop',\n",
       " 'RandomEqualize',\n",
       " 'RandomErasing',\n",
       " 'RandomGrayscale',\n",
       " 'RandomHorizontalFlip',\n",
       " 'RandomInvert',\n",
       " 'RandomOrder',\n",
       " 'RandomPerspective',\n",
       " 'RandomPosterize',\n",
       " 'RandomResizedCrop',\n",
       " 'RandomRotation',\n",
       " 'RandomSolarize',\n",
       " 'RandomVerticalFlip',\n",
       " 'Resize',\n",
       " 'TenCrop',\n",
       " 'ToPILImage',\n",
       " 'ToTensor',\n",
       " 'TrivialAugmentWide',\n",
       " '__builtins__',\n",
       " '__cached__',\n",
       " '__doc__',\n",
       " '__file__',\n",
       " '__loader__',\n",
       " '__name__',\n",
       " '__package__',\n",
       " '__path__',\n",
       " '__spec__',\n",
       " '_functional_pil',\n",
       " '_functional_tensor',\n",
       " '_presets',\n",
       " 'autoaugment',\n",
       " 'functional',\n",
       " 'transforms']"
      ]
     },
     "execution_count": 6,
     "metadata": {},
     "output_type": "execute_result"
    }
   ],
   "source": [
    "dir(transforms)"
   ]
  },
  {
   "cell_type": "code",
   "execution_count": 11,
   "id": "22a8fbb0",
   "metadata": {
    "execution": {
     "iopub.execute_input": "2024-11-03T05:59:01.739078Z",
     "iopub.status.busy": "2024-11-03T05:59:01.738535Z",
     "iopub.status.idle": "2024-11-03T05:59:06.988279Z",
     "shell.execute_reply": "2024-11-03T05:59:06.986765Z"
    },
    "papermill": {
     "duration": 5.264537,
     "end_time": "2024-11-03T05:59:06.990875",
     "exception": false,
     "start_time": "2024-11-03T05:59:01.726338",
     "status": "completed"
    },
    "tags": []
   },
   "outputs": [
    {
     "name": "stdout",
     "output_type": "stream",
     "text": [
      "Downloading http://fashion-mnist.s3-website.eu-central-1.amazonaws.com/train-images-idx3-ubyte.gz\n",
      "Downloading http://fashion-mnist.s3-website.eu-central-1.amazonaws.com/train-images-idx3-ubyte.gz to data/FashionMNIST/raw/train-images-idx3-ubyte.gz\n"
     ]
    },
    {
     "name": "stderr",
     "output_type": "stream",
     "text": [
      "100.0%\n"
     ]
    },
    {
     "name": "stdout",
     "output_type": "stream",
     "text": [
      "Extracting data/FashionMNIST/raw/train-images-idx3-ubyte.gz to data/FashionMNIST/raw\n",
      "\n",
      "Downloading http://fashion-mnist.s3-website.eu-central-1.amazonaws.com/train-labels-idx1-ubyte.gz\n",
      "Downloading http://fashion-mnist.s3-website.eu-central-1.amazonaws.com/train-labels-idx1-ubyte.gz to data/FashionMNIST/raw/train-labels-idx1-ubyte.gz\n"
     ]
    },
    {
     "name": "stderr",
     "output_type": "stream",
     "text": [
      "100.0%\n"
     ]
    },
    {
     "name": "stdout",
     "output_type": "stream",
     "text": [
      "Extracting data/FashionMNIST/raw/train-labels-idx1-ubyte.gz to data/FashionMNIST/raw\n",
      "\n",
      "Downloading http://fashion-mnist.s3-website.eu-central-1.amazonaws.com/t10k-images-idx3-ubyte.gz\n",
      "Downloading http://fashion-mnist.s3-website.eu-central-1.amazonaws.com/t10k-images-idx3-ubyte.gz to data/FashionMNIST/raw/t10k-images-idx3-ubyte.gz\n"
     ]
    },
    {
     "name": "stderr",
     "output_type": "stream",
     "text": [
      "100.0%\n"
     ]
    },
    {
     "name": "stdout",
     "output_type": "stream",
     "text": [
      "Extracting data/FashionMNIST/raw/t10k-images-idx3-ubyte.gz to data/FashionMNIST/raw\n",
      "\n",
      "Downloading http://fashion-mnist.s3-website.eu-central-1.amazonaws.com/t10k-labels-idx1-ubyte.gz\n",
      "Downloading http://fashion-mnist.s3-website.eu-central-1.amazonaws.com/t10k-labels-idx1-ubyte.gz to data/FashionMNIST/raw/t10k-labels-idx1-ubyte.gz\n"
     ]
    },
    {
     "name": "stderr",
     "output_type": "stream",
     "text": [
      "100.0%"
     ]
    },
    {
     "name": "stdout",
     "output_type": "stream",
     "text": [
      "Extracting data/FashionMNIST/raw/t10k-labels-idx1-ubyte.gz to data/FashionMNIST/raw\n",
      "\n"
     ]
    },
    {
     "name": "stderr",
     "output_type": "stream",
     "text": [
      "\n"
     ]
    }
   ],
   "source": [
    "train = datasets.FashionMNIST(\n",
    "    root=\"data\", train=True, transform=transforms.ToTensor(), download=True\n",
    ")\n",
    "test = datasets.FashionMNIST(\n",
    "    root=\"data\", train=False, transform=transforms.ToTensor(), download=False\n",
    ")"
   ]
  },
  {
   "cell_type": "code",
   "execution_count": 12,
   "id": "798f62cd",
   "metadata": {
    "execution": {
     "iopub.execute_input": "2024-11-03T05:59:07.014659Z",
     "iopub.status.busy": "2024-11-03T05:59:07.014245Z",
     "iopub.status.idle": "2024-11-03T05:59:07.019808Z",
     "shell.execute_reply": "2024-11-03T05:59:07.018716Z"
    },
    "papermill": {
     "duration": 0.020148,
     "end_time": "2024-11-03T05:59:07.022785",
     "exception": false,
     "start_time": "2024-11-03T05:59:07.002637",
     "status": "completed"
    },
    "tags": []
   },
   "outputs": [
    {
     "name": "stdout",
     "output_type": "stream",
     "text": [
      "Dataset FashionMNIST\n",
      "    Number of datapoints: 60000\n",
      "    Root location: data\n",
      "    Split: Train\n",
      "    StandardTransform\n",
      "Transform: ToTensor()\n"
     ]
    }
   ],
   "source": [
    "print(train)"
   ]
  },
  {
   "cell_type": "code",
   "execution_count": 13,
   "id": "788c7023",
   "metadata": {
    "execution": {
     "iopub.execute_input": "2024-11-03T05:59:07.045815Z",
     "iopub.status.busy": "2024-11-03T05:59:07.045349Z",
     "iopub.status.idle": "2024-11-03T05:59:07.051155Z",
     "shell.execute_reply": "2024-11-03T05:59:07.050041Z"
    },
    "papermill": {
     "duration": 0.020759,
     "end_time": "2024-11-03T05:59:07.054295",
     "exception": false,
     "start_time": "2024-11-03T05:59:07.033536",
     "status": "completed"
    },
    "tags": []
   },
   "outputs": [
    {
     "name": "stdout",
     "output_type": "stream",
     "text": [
      "Dataset FashionMNIST\n",
      "    Number of datapoints: 10000\n",
      "    Root location: data\n",
      "    Split: Test\n",
      "    StandardTransform\n",
      "Transform: ToTensor()\n"
     ]
    }
   ],
   "source": [
    "print(test)"
   ]
  },
  {
   "cell_type": "code",
   "execution_count": 14,
   "id": "30c893b1",
   "metadata": {
    "execution": {
     "iopub.execute_input": "2024-11-03T05:59:07.077832Z",
     "iopub.status.busy": "2024-11-03T05:59:07.076999Z",
     "iopub.status.idle": "2024-11-03T05:59:07.083213Z",
     "shell.execute_reply": "2024-11-03T05:59:07.082086Z"
    },
    "papermill": {
     "duration": 0.02112,
     "end_time": "2024-11-03T05:59:07.086115",
     "exception": false,
     "start_time": "2024-11-03T05:59:07.064995",
     "status": "completed"
    },
    "tags": []
   },
   "outputs": [
    {
     "name": "stdout",
     "output_type": "stream",
     "text": [
      "60000\n",
      "10000\n"
     ]
    }
   ],
   "source": [
    "# Dataset sizes\n",
    "print(len(train))\n",
    "print(len(test))"
   ]
  },
  {
   "cell_type": "code",
   "execution_count": null,
   "id": "5bf0b066",
   "metadata": {
    "execution": {
     "iopub.execute_input": "2024-11-03T05:59:07.110144Z",
     "iopub.status.busy": "2024-11-03T05:59:07.109641Z",
     "iopub.status.idle": "2024-11-03T05:59:07.151194Z",
     "shell.execute_reply": "2024-11-03T05:59:07.150012Z"
    },
    "papermill": {
     "duration": 0.056378,
     "end_time": "2024-11-03T05:59:07.153575",
     "exception": false,
     "start_time": "2024-11-03T05:59:07.097197",
     "status": "completed"
    },
    "tags": []
   },
   "outputs": [],
   "source": []
  },
  {
   "cell_type": "markdown",
   "id": "e0e8b384",
   "metadata": {
    "papermill": {
     "duration": 0.010432,
     "end_time": "2024-11-03T05:59:07.174946",
     "exception": false,
     "start_time": "2024-11-03T05:59:07.164514",
     "status": "completed"
    },
    "tags": []
   },
   "source": [
    "# 3. Build a Logistic Regression Model"
   ]
  },
  {
   "cell_type": "markdown",
   "id": "713b6a18",
   "metadata": {
    "papermill": {
     "duration": 0.010794,
     "end_time": "2024-11-03T05:59:07.197124",
     "exception": false,
     "start_time": "2024-11-03T05:59:07.186330",
     "status": "completed"
    },
    "tags": []
   },
   "source": [
    "# 4. Pick Loss Function and Optimizer"
   ]
  },
  {
   "cell_type": "markdown",
   "id": "0a2dc617",
   "metadata": {
    "papermill": {
     "duration": 0.010506,
     "end_time": "2024-11-03T05:59:07.218590",
     "exception": false,
     "start_time": "2024-11-03T05:59:07.208084",
     "status": "completed"
    },
    "tags": []
   },
   "source": [
    "# 5. Build a Training Loop"
   ]
  },
  {
   "cell_type": "markdown",
   "id": "ca47c633",
   "metadata": {
    "papermill": {
     "duration": 0.010597,
     "end_time": "2024-11-03T05:59:07.240074",
     "exception": false,
     "start_time": "2024-11-03T05:59:07.229477",
     "status": "completed"
    },
    "tags": []
   },
   "source": [
    "# 6. Evaluate the model"
   ]
  },
  {
   "cell_type": "markdown",
   "id": "98bc2a82",
   "metadata": {
    "papermill": {
     "duration": 0.010545,
     "end_time": "2024-11-03T05:59:07.262154",
     "exception": false,
     "start_time": "2024-11-03T05:59:07.251609",
     "status": "completed"
    },
    "tags": []
   },
   "source": [
    "# 7. Improve the model"
   ]
  },
  {
   "cell_type": "markdown",
   "id": "39ff4c11",
   "metadata": {
    "papermill": {
     "duration": 0.010807,
     "end_time": "2024-11-03T05:59:07.284562",
     "exception": false,
     "start_time": "2024-11-03T05:59:07.273755",
     "status": "completed"
    },
    "tags": []
   },
   "source": [
    "# 8. Save and Load the model"
   ]
  },
  {
   "cell_type": "code",
   "execution_count": null,
   "id": "3f9d3c5d",
   "metadata": {
    "papermill": {
     "duration": 0.010652,
     "end_time": "2024-11-03T05:59:07.306178",
     "exception": false,
     "start_time": "2024-11-03T05:59:07.295526",
     "status": "completed"
    },
    "tags": []
   },
   "outputs": [],
   "source": []
  }
 ],
 "metadata": {
  "kaggle": {
   "accelerator": "none",
   "dataSources": [],
   "dockerImageVersionId": 30786,
   "isGpuEnabled": false,
   "isInternetEnabled": true,
   "language": "python",
   "sourceType": "notebook"
  },
  "kernelspec": {
   "display_name": "models-wPjj_xAa-py3.12",
   "language": "python",
   "name": "python3"
  },
  "language_info": {
   "codemirror_mode": {
    "name": "ipython",
    "version": 3
   },
   "file_extension": ".py",
   "mimetype": "text/x-python",
   "name": "python",
   "nbconvert_exporter": "python",
   "pygments_lexer": "ipython3",
   "version": "3.12.5"
  },
  "papermill": {
   "default_parameters": {},
   "duration": 15.17557,
   "end_time": "2024-11-03T05:59:08.441589",
   "environment_variables": {},
   "exception": null,
   "input_path": "__notebook__.ipynb",
   "output_path": "__notebook__.ipynb",
   "parameters": {},
   "start_time": "2024-11-03T05:58:53.266019",
   "version": "2.6.0"
  }
 },
 "nbformat": 4,
 "nbformat_minor": 5
}
